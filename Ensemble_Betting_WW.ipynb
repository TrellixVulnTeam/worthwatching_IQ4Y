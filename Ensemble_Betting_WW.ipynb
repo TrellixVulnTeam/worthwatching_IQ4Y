{
 "cells": [
  {
   "cell_type": "code",
   "execution_count": 14,
   "metadata": {},
   "outputs": [],
   "source": [
    "import pandas as pd\n",
    "from sklearn.model_selection import train_test_split\n",
    "from sklearn.ensemble import RandomForestClassifier, VotingClassifier, RandomForestClassifier\n",
    "from sklearn.tree import DecisionTreeClassifier\n",
    "from sklearn.svm import SVC\n",
    "from sklearn.metrics import confusion_matrix"
   ]
  },
  {
   "cell_type": "code",
   "execution_count": 15,
   "metadata": {},
   "outputs": [
    {
     "name": "stdout",
     "output_type": "stream",
     "text": [
      "Index(['Date', 'HomeTeam', 'AwayTeam', 'FTHG', 'FTAG', 'HS', 'AS', 'HST',\n",
      "       'AST', 'HTHG', 'HTAG', 'HF', 'AF', 'FTR', 'HTR', 'HY', 'AY', 'HR', 'AR',\n",
      "       'WHH', 'WHD', 'WHA', 'Season', 'watch', 'AGS', 'AGA', 'AYC', 'ARC',\n",
      "       'AWW', 'HGS', 'HGA', 'HYC', 'HRC', 'HWW', 'HP', 'AP'],\n",
      "      dtype='object')\n"
     ]
    },
    {
     "data": {
      "text/html": [
       "<div>\n",
       "<style scoped>\n",
       "    .dataframe tbody tr th:only-of-type {\n",
       "        vertical-align: middle;\n",
       "    }\n",
       "\n",
       "    .dataframe tbody tr th {\n",
       "        vertical-align: top;\n",
       "    }\n",
       "\n",
       "    .dataframe thead th {\n",
       "        text-align: right;\n",
       "    }\n",
       "</style>\n",
       "<table border=\"1\" class=\"dataframe\">\n",
       "  <thead>\n",
       "    <tr style=\"text-align: right;\">\n",
       "      <th></th>\n",
       "      <th>Date</th>\n",
       "      <th>HomeTeam</th>\n",
       "      <th>AwayTeam</th>\n",
       "      <th>FTHG</th>\n",
       "      <th>FTAG</th>\n",
       "      <th>HS</th>\n",
       "      <th>AS</th>\n",
       "      <th>HST</th>\n",
       "      <th>AST</th>\n",
       "      <th>HTHG</th>\n",
       "      <th>...</th>\n",
       "      <th>AYC</th>\n",
       "      <th>ARC</th>\n",
       "      <th>AWW</th>\n",
       "      <th>HGS</th>\n",
       "      <th>HGA</th>\n",
       "      <th>HYC</th>\n",
       "      <th>HRC</th>\n",
       "      <th>HWW</th>\n",
       "      <th>HP</th>\n",
       "      <th>AP</th>\n",
       "    </tr>\n",
       "  </thead>\n",
       "  <tbody>\n",
       "    <tr>\n",
       "      <th>8</th>\n",
       "      <td>2000-08-26</td>\n",
       "      <td>Arsenal</td>\n",
       "      <td>Charlton</td>\n",
       "      <td>5</td>\n",
       "      <td>3</td>\n",
       "      <td>18</td>\n",
       "      <td>7</td>\n",
       "      <td>9</td>\n",
       "      <td>4</td>\n",
       "      <td>1</td>\n",
       "      <td>...</td>\n",
       "      <td>1.0</td>\n",
       "      <td>0.5</td>\n",
       "      <td>0.5</td>\n",
       "      <td>1.0</td>\n",
       "      <td>0.5</td>\n",
       "      <td>1.5</td>\n",
       "      <td>1.0</td>\n",
       "      <td>0.0</td>\n",
       "      <td>3</td>\n",
       "      <td>0</td>\n",
       "    </tr>\n",
       "    <tr>\n",
       "      <th>10</th>\n",
       "      <td>2000-08-26</td>\n",
       "      <td>Everton</td>\n",
       "      <td>Derby</td>\n",
       "      <td>2</td>\n",
       "      <td>2</td>\n",
       "      <td>12</td>\n",
       "      <td>7</td>\n",
       "      <td>9</td>\n",
       "      <td>4</td>\n",
       "      <td>2</td>\n",
       "      <td>...</td>\n",
       "      <td>2.0</td>\n",
       "      <td>0.0</td>\n",
       "      <td>1.0</td>\n",
       "      <td>1.5</td>\n",
       "      <td>1.0</td>\n",
       "      <td>2.5</td>\n",
       "      <td>0.0</td>\n",
       "      <td>0.0</td>\n",
       "      <td>3</td>\n",
       "      <td>0</td>\n",
       "    </tr>\n",
       "    <tr>\n",
       "      <th>11</th>\n",
       "      <td>2000-08-26</td>\n",
       "      <td>Ipswich</td>\n",
       "      <td>Sunderland</td>\n",
       "      <td>1</td>\n",
       "      <td>0</td>\n",
       "      <td>14</td>\n",
       "      <td>9</td>\n",
       "      <td>5</td>\n",
       "      <td>3</td>\n",
       "      <td>0</td>\n",
       "      <td>...</td>\n",
       "      <td>3.0</td>\n",
       "      <td>0.0</td>\n",
       "      <td>0.5</td>\n",
       "      <td>1.0</td>\n",
       "      <td>2.0</td>\n",
       "      <td>0.5</td>\n",
       "      <td>0.0</td>\n",
       "      <td>0.5</td>\n",
       "      <td>1</td>\n",
       "      <td>0</td>\n",
       "    </tr>\n",
       "    <tr>\n",
       "      <th>12</th>\n",
       "      <td>2000-08-26</td>\n",
       "      <td>Man City</td>\n",
       "      <td>Coventry</td>\n",
       "      <td>1</td>\n",
       "      <td>2</td>\n",
       "      <td>14</td>\n",
       "      <td>9</td>\n",
       "      <td>5</td>\n",
       "      <td>8</td>\n",
       "      <td>0</td>\n",
       "      <td>...</td>\n",
       "      <td>4.0</td>\n",
       "      <td>0.5</td>\n",
       "      <td>0.5</td>\n",
       "      <td>2.0</td>\n",
       "      <td>3.0</td>\n",
       "      <td>2.5</td>\n",
       "      <td>0.0</td>\n",
       "      <td>1.0</td>\n",
       "      <td>3</td>\n",
       "      <td>3</td>\n",
       "    </tr>\n",
       "    <tr>\n",
       "      <th>14</th>\n",
       "      <td>2000-08-26</td>\n",
       "      <td>Newcastle</td>\n",
       "      <td>Tottenham</td>\n",
       "      <td>2</td>\n",
       "      <td>0</td>\n",
       "      <td>15</td>\n",
       "      <td>10</td>\n",
       "      <td>6</td>\n",
       "      <td>2</td>\n",
       "      <td>1</td>\n",
       "      <td>...</td>\n",
       "      <td>0.5</td>\n",
       "      <td>0.0</td>\n",
       "      <td>0.5</td>\n",
       "      <td>1.5</td>\n",
       "      <td>2.0</td>\n",
       "      <td>0.5</td>\n",
       "      <td>0.5</td>\n",
       "      <td>0.5</td>\n",
       "      <td>3</td>\n",
       "      <td>1</td>\n",
       "    </tr>\n",
       "  </tbody>\n",
       "</table>\n",
       "<p>5 rows × 36 columns</p>\n",
       "</div>"
      ],
      "text/plain": [
       "          Date   HomeTeam    AwayTeam  FTHG  FTAG  HS  AS  HST  AST  HTHG ...  \\\n",
       "8   2000-08-26    Arsenal    Charlton     5     3  18   7    9    4     1 ...   \n",
       "10  2000-08-26    Everton       Derby     2     2  12   7    9    4     2 ...   \n",
       "11  2000-08-26    Ipswich  Sunderland     1     0  14   9    5    3     0 ...   \n",
       "12  2000-08-26   Man City    Coventry     1     2  14   9    5    8     0 ...   \n",
       "14  2000-08-26  Newcastle   Tottenham     2     0  15  10    6    2     1 ...   \n",
       "\n",
       "    AYC  ARC  AWW  HGS  HGA  HYC  HRC  HWW  HP  AP  \n",
       "8   1.0  0.5  0.5  1.0  0.5  1.5  1.0  0.0   3   0  \n",
       "10  2.0  0.0  1.0  1.5  1.0  2.5  0.0  0.0   3   0  \n",
       "11  3.0  0.0  0.5  1.0  2.0  0.5  0.0  0.5   1   0  \n",
       "12  4.0  0.5  0.5  2.0  3.0  2.5  0.0  1.0   3   3  \n",
       "14  0.5  0.0  0.5  1.5  2.0  0.5  0.5  0.5   3   1  \n",
       "\n",
       "[5 rows x 36 columns]"
      ]
     },
     "execution_count": 15,
     "metadata": {},
     "output_type": "execute_result"
    }
   ],
   "source": [
    "data = pd.read_csv('data_with_points.csv', sep=',', index_col=0)\n",
    "print(data.columns)\n",
    "data.head()"
   ]
  },
  {
   "cell_type": "code",
   "execution_count": 16,
   "metadata": {},
   "outputs": [],
   "source": [
    "data = data[['Date','WHH','WHD','WHA','HWW','AWW','HP','AP','watch']]\n",
    "data = data.reindex(index=data.index[::-1])\n",
    "data.reset_index(inplace=True)\n",
    "data['Date'] =  pd.to_datetime(data['Date'])\n",
    "data[['WHH','WHD','WHA','HWW','AWW','HP','AP','watch']] = data[['WHH','WHD','WHA','HWW','AWW','HP','AP','watch']].apply(pd.to_numeric)\n",
    "data.drop('index',axis=1,inplace=True)"
   ]
  },
  {
   "cell_type": "code",
   "execution_count": 17,
   "metadata": {},
   "outputs": [],
   "source": [
    "recent = data[data['Date'] > '2010-08-01']\n",
    "recent = recent[recent['Date'] < '2018-05-13']"
   ]
  },
  {
   "cell_type": "code",
   "execution_count": 18,
   "metadata": {},
   "outputs": [],
   "source": [
    "X = recent[['WHH','WHD','WHA','HWW','AWW','HP','AP']]\n",
    "y = recent['watch']"
   ]
  },
  {
   "cell_type": "code",
   "execution_count": 19,
   "metadata": {},
   "outputs": [],
   "source": [
    "X_train, X_vt, y_train, y_vt = train_test_split(X, y, test_size=0.3, random_state=101)\n",
    "X_validate, X_test, y_validate, y_test = train_test_split(X_vt, y_vt, test_size=0.5, random_state=101)"
   ]
  },
  {
   "cell_type": "code",
   "execution_count": 20,
   "metadata": {},
   "outputs": [],
   "source": [
    "dtc_clf = DecisionTreeClassifier(random_state=101)\n",
    "rnd_clf = RandomForestClassifier(random_state=101, \n",
    "                                 n_estimators=100)\n",
    "svm_clf = SVC(random_state=101, \n",
    "              gamma=1, \n",
    "              C=100, \n",
    "              kernel='rbf')"
   ]
  },
  {
   "cell_type": "code",
   "execution_count": 21,
   "metadata": {},
   "outputs": [],
   "source": [
    "voting_clf = VotingClassifier(\n",
    "    estimators=[('dt', dtc_clf), ('rf', rnd_clf), ('sv', svm_clf)],\n",
    "    voting='hard')"
   ]
  },
  {
   "cell_type": "code",
   "execution_count": 22,
   "metadata": {},
   "outputs": [
    {
     "name": "stdout",
     "output_type": "stream",
     "text": [
      "DecisionTreeClassifier\n",
      "[[175  98]\n",
      " [ 94  56]]\n",
      "0.36363636363636365\n",
      "RandomForestClassifier\n",
      "[[238  35]\n",
      " [117  33]]\n",
      "0.4852941176470588\n",
      "SVC\n",
      "[[227  46]\n",
      " [120  30]]\n",
      "0.39473684210526316\n",
      "VotingClassifier\n",
      "[[239  34]\n",
      " [118  32]]\n",
      "0.48484848484848486\n"
     ]
    }
   ],
   "source": [
    "for clf in (dtc_clf, rnd_clf, svm_clf, voting_clf):\n",
    "    clf.fit(X_train, y_train)\n",
    "    y_pred = clf.predict(X_validate)\n",
    "    print(clf.__class__.__name__)\n",
    "    cf = confusion_matrix(y_validate, y_pred)\n",
    "    print(cf)\n",
    "    print(cf[1][1] / (cf[0][1] + cf[1][1]))"
   ]
  },
  {
   "cell_type": "code",
   "execution_count": 23,
   "metadata": {},
   "outputs": [
    {
     "name": "stdout",
     "output_type": "stream",
     "text": [
      "[[240  41]\n",
      " [123  19]]\n",
      "0.31666666666666665\n"
     ]
    }
   ],
   "source": [
    "rnd_clf.fit(X_train.append(X_validate), y_train.append(y_validate))\n",
    "y_pred = rnd_clf.predict(X_test)\n",
    "cf = confusion_matrix(y_test, y_pred)\n",
    "print(cf)\n",
    "print(cf[1][1] / (cf[0][1] + cf[1][1]))"
   ]
  },
  {
   "cell_type": "markdown",
   "metadata": {},
   "source": [
    "This is the best testing accuracy of a classifier so far and encouragingly predicts about 18% of games to be exciting to watch. So each week in the Premiership it will likely predict at least one game as interesting to watch."
   ]
  },
  {
   "cell_type": "code",
   "execution_count": null,
   "metadata": {},
   "outputs": [],
   "source": []
  }
 ],
 "metadata": {
  "kernelspec": {
   "display_name": "Python 3",
   "language": "python",
   "name": "python3"
  },
  "language_info": {
   "codemirror_mode": {
    "name": "ipython",
    "version": 3
   },
   "file_extension": ".py",
   "mimetype": "text/x-python",
   "name": "python",
   "nbconvert_exporter": "python",
   "pygments_lexer": "ipython3",
   "version": "3.7.1"
  }
 },
 "nbformat": 4,
 "nbformat_minor": 2
}
