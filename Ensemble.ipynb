{
 "cells": [
  {
   "cell_type": "code",
   "execution_count": 55,
   "metadata": {},
   "outputs": [],
   "source": [
    "import pandas as pd\n",
    "from sklearn.model_selection import train_test_split\n",
    "from sklearn.ensemble import RandomForestClassifier, VotingClassifier, RandomForestClassifier\n",
    "from sklearn.tree import DecisionTreeClassifier\n",
    "from sklearn.svm import SVC\n",
    "from sklearn.metrics import confusion_matrix"
   ]
  },
  {
   "cell_type": "code",
   "execution_count": 21,
   "metadata": {},
   "outputs": [],
   "source": [
    "data = pd.read_csv('clean_data.csv', sep='\\t')\n",
    "data = data[['Date','HGS','HGA','HYC','HRC','HWW','AGS','AGA','AYC','ARC','AWW','watch']]\n",
    "data = data.reindex(index=data.index[::-1])\n",
    "data.reset_index(inplace=True)\n",
    "data['Date'] =  pd.to_datetime(data['Date'])\n",
    "data[['HGS','HGA','HYC',\n",
    "      'HRC','HWW','AGS',\n",
    "      'AGA','AYC','ARC',\n",
    "      'AWW','watch']] = data[['HGS','HGA',\n",
    "                              'HYC','HRC',\n",
    "                              'HWW','AGS',\n",
    "                              'AGA','AYC',\n",
    "                              'ARC','AWW',\n",
    "                              'watch']].apply(pd.to_numeric)\n",
    "data.drop('index',axis=1,inplace=True)"
   ]
  },
  {
   "cell_type": "code",
   "execution_count": 22,
   "metadata": {},
   "outputs": [],
   "source": [
    "recent = data[data['Date'] > '2010-08-01']\n",
    "recent = data[data['Date'] < '2018-05-13']"
   ]
  },
  {
   "cell_type": "code",
   "execution_count": 23,
   "metadata": {},
   "outputs": [],
   "source": [
    "X = recent[['HGS','HGA','HYC',\n",
    "      'HRC','HWW','AGS',\n",
    "      'AGA','AYC','ARC',\n",
    "      'AWW']]\n",
    "y = recent['watch']"
   ]
  },
  {
   "cell_type": "code",
   "execution_count": 19,
   "metadata": {},
   "outputs": [],
   "source": [
    "X_train, X_vt, y_train, y_vt = train_test_split(X, y, test_size=0.3, random_state=101)\n",
    "X_validate, X_test, y_validate, y_test = train_test_split(X_vt, y_vt, test_size=0.5, random_state=101)"
   ]
  },
  {
   "cell_type": "code",
   "execution_count": 43,
   "metadata": {},
   "outputs": [],
   "source": [
    "dtc_clf = DecisionTreeClassifier(random_state=101)\n",
    "rnd_clf = RandomForestClassifier(random_state=101, \n",
    "                                 n_estimators=100)\n",
    "svm_clf = SVC(random_state=101, \n",
    "              gamma=1, \n",
    "              C=100, \n",
    "              kernel='rbf')"
   ]
  },
  {
   "cell_type": "code",
   "execution_count": 44,
   "metadata": {},
   "outputs": [],
   "source": [
    "voting_clf = VotingClassifier(\n",
    "    estimators=[('dt', dtc_clf), ('rf', rnd_clf), ('svc', svm_clf)],\n",
    "    voting='hard')"
   ]
  },
  {
   "cell_type": "code",
   "execution_count": 45,
   "metadata": {},
   "outputs": [
    {
     "name": "stdout",
     "output_type": "stream",
     "text": [
      "DecisionTreeClassifier\n",
      "[[394 206]\n",
      " [217 119]]\n",
      "0.36615384615384616\n",
      "RandomForestClassifier\n",
      "[[576  24]\n",
      " [322  14]]\n",
      "0.3684210526315789\n",
      "SVC\n",
      "[[499 101]\n",
      " [276  60]]\n",
      "0.37267080745341613\n",
      "VotingClassifier\n",
      "[[548  52]\n",
      " [303  33]]\n",
      "0.38823529411764707\n"
     ]
    }
   ],
   "source": [
    "for clf in (dtc_clf, rnd_clf, svm_clf, voting_clf):\n",
    "    clf.fit(X_train, y_train)\n",
    "    y_pred = clf.predict(X_validate)\n",
    "    print(clf.__class__.__name__)\n",
    "    cf = confusion_matrix(y_validate, y_pred)\n",
    "    print(cf)\n",
    "    print(cf[1][1] / (cf[0][1] + cf[1][1]))"
   ]
  },
  {
   "cell_type": "code",
   "execution_count": 46,
   "metadata": {},
   "outputs": [
    {
     "name": "stdout",
     "output_type": "stream",
     "text": [
      "[[537  63]\n",
      " [307  29]]\n",
      "0.31521739130434784\n"
     ]
    }
   ],
   "source": [
    "voting_clf.fit(X_train.append(X_validate), y_train.append(y_validate))\n",
    "y_pred = voting_clf.predict(X_test)\n",
    "cf = confusion_matrix(y_validate, y_pred)\n",
    "print(cf)\n",
    "print(cf[1][1] / (cf[0][1] + cf[1][1]))"
   ]
  }
 ],
 "metadata": {
  "kernelspec": {
   "display_name": "Python 3",
   "language": "python",
   "name": "python3"
  },
  "language_info": {
   "codemirror_mode": {
    "name": "ipython",
    "version": 3
   },
   "file_extension": ".py",
   "mimetype": "text/x-python",
   "name": "python",
   "nbconvert_exporter": "python",
   "pygments_lexer": "ipython3",
   "version": "3.7.1"
  }
 },
 "nbformat": 4,
 "nbformat_minor": 2
}
